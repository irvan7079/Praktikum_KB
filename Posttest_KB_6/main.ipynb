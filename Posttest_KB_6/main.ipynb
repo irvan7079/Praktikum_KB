{
 "cells": [
  {
   "cell_type": "markdown",
   "metadata": {},
   "source": [
    "# Muhammad Irvan Hakim\n",
    "# 2109106057\n",
    "# Posttest 6 (Deep Neural Network)"
   ]
  },
  {
   "cell_type": "markdown",
   "metadata": {},
   "source": [
    "#### Import Library pandas"
   ]
  },
  {
   "cell_type": "code",
   "execution_count": 131,
   "metadata": {},
   "outputs": [],
   "source": [
    "import pandas as pd"
   ]
  },
  {
   "cell_type": "markdown",
   "metadata": {},
   "source": [
    "#### Menginput File CSV Menggunakan Pandas"
   ]
  },
  {
   "cell_type": "code",
   "execution_count": 132,
   "metadata": {},
   "outputs": [
    {
     "data": {
      "text/html": [
       "<div>\n",
       "<style scoped>\n",
       "    .dataframe tbody tr th:only-of-type {\n",
       "        vertical-align: middle;\n",
       "    }\n",
       "\n",
       "    .dataframe tbody tr th {\n",
       "        vertical-align: top;\n",
       "    }\n",
       "\n",
       "    .dataframe thead th {\n",
       "        text-align: right;\n",
       "    }\n",
       "</style>\n",
       "<table border=\"1\" class=\"dataframe\">\n",
       "  <thead>\n",
       "    <tr style=\"text-align: right;\">\n",
       "      <th></th>\n",
       "      <th>Unnamed: 0</th>\n",
       "      <th>fixed_acidity</th>\n",
       "      <th>volatile_acidity</th>\n",
       "      <th>citric_acid</th>\n",
       "      <th>residual_sugar</th>\n",
       "      <th>chlorides</th>\n",
       "      <th>free_sulfur_dioxide</th>\n",
       "      <th>total_sulfur_dioxide</th>\n",
       "      <th>density</th>\n",
       "      <th>pH</th>\n",
       "      <th>sulphates</th>\n",
       "      <th>alcohol</th>\n",
       "      <th>quality</th>\n",
       "      <th>is_red</th>\n",
       "    </tr>\n",
       "  </thead>\n",
       "  <tbody>\n",
       "    <tr>\n",
       "      <th>0</th>\n",
       "      <td>0</td>\n",
       "      <td>7.4</td>\n",
       "      <td>0.70</td>\n",
       "      <td>0.00</td>\n",
       "      <td>1.9</td>\n",
       "      <td>0.076</td>\n",
       "      <td>11.0</td>\n",
       "      <td>34.0</td>\n",
       "      <td>0.99780</td>\n",
       "      <td>3.51</td>\n",
       "      <td>0.56</td>\n",
       "      <td>9.4</td>\n",
       "      <td>5</td>\n",
       "      <td>1</td>\n",
       "    </tr>\n",
       "    <tr>\n",
       "      <th>1</th>\n",
       "      <td>1</td>\n",
       "      <td>7.8</td>\n",
       "      <td>0.88</td>\n",
       "      <td>0.00</td>\n",
       "      <td>2.6</td>\n",
       "      <td>0.098</td>\n",
       "      <td>25.0</td>\n",
       "      <td>67.0</td>\n",
       "      <td>0.99680</td>\n",
       "      <td>3.20</td>\n",
       "      <td>0.68</td>\n",
       "      <td>9.8</td>\n",
       "      <td>5</td>\n",
       "      <td>1</td>\n",
       "    </tr>\n",
       "    <tr>\n",
       "      <th>2</th>\n",
       "      <td>2</td>\n",
       "      <td>7.8</td>\n",
       "      <td>0.76</td>\n",
       "      <td>0.04</td>\n",
       "      <td>2.3</td>\n",
       "      <td>0.092</td>\n",
       "      <td>15.0</td>\n",
       "      <td>54.0</td>\n",
       "      <td>0.99700</td>\n",
       "      <td>3.26</td>\n",
       "      <td>0.65</td>\n",
       "      <td>9.8</td>\n",
       "      <td>5</td>\n",
       "      <td>1</td>\n",
       "    </tr>\n",
       "    <tr>\n",
       "      <th>3</th>\n",
       "      <td>3</td>\n",
       "      <td>11.2</td>\n",
       "      <td>0.28</td>\n",
       "      <td>0.56</td>\n",
       "      <td>1.9</td>\n",
       "      <td>0.075</td>\n",
       "      <td>17.0</td>\n",
       "      <td>60.0</td>\n",
       "      <td>0.99800</td>\n",
       "      <td>3.16</td>\n",
       "      <td>0.58</td>\n",
       "      <td>9.8</td>\n",
       "      <td>6</td>\n",
       "      <td>1</td>\n",
       "    </tr>\n",
       "    <tr>\n",
       "      <th>4</th>\n",
       "      <td>4</td>\n",
       "      <td>7.4</td>\n",
       "      <td>0.66</td>\n",
       "      <td>0.00</td>\n",
       "      <td>1.8</td>\n",
       "      <td>0.075</td>\n",
       "      <td>13.0</td>\n",
       "      <td>40.0</td>\n",
       "      <td>0.99780</td>\n",
       "      <td>3.51</td>\n",
       "      <td>0.56</td>\n",
       "      <td>9.4</td>\n",
       "      <td>5</td>\n",
       "      <td>1</td>\n",
       "    </tr>\n",
       "    <tr>\n",
       "      <th>...</th>\n",
       "      <td>...</td>\n",
       "      <td>...</td>\n",
       "      <td>...</td>\n",
       "      <td>...</td>\n",
       "      <td>...</td>\n",
       "      <td>...</td>\n",
       "      <td>...</td>\n",
       "      <td>...</td>\n",
       "      <td>...</td>\n",
       "      <td>...</td>\n",
       "      <td>...</td>\n",
       "      <td>...</td>\n",
       "      <td>...</td>\n",
       "      <td>...</td>\n",
       "    </tr>\n",
       "    <tr>\n",
       "      <th>5315</th>\n",
       "      <td>5315</td>\n",
       "      <td>6.2</td>\n",
       "      <td>0.21</td>\n",
       "      <td>0.29</td>\n",
       "      <td>1.6</td>\n",
       "      <td>0.039</td>\n",
       "      <td>24.0</td>\n",
       "      <td>92.0</td>\n",
       "      <td>0.99114</td>\n",
       "      <td>3.27</td>\n",
       "      <td>0.50</td>\n",
       "      <td>11.2</td>\n",
       "      <td>6</td>\n",
       "      <td>0</td>\n",
       "    </tr>\n",
       "    <tr>\n",
       "      <th>5316</th>\n",
       "      <td>5316</td>\n",
       "      <td>6.6</td>\n",
       "      <td>0.32</td>\n",
       "      <td>0.36</td>\n",
       "      <td>8.0</td>\n",
       "      <td>0.047</td>\n",
       "      <td>57.0</td>\n",
       "      <td>168.0</td>\n",
       "      <td>0.99490</td>\n",
       "      <td>3.15</td>\n",
       "      <td>0.46</td>\n",
       "      <td>9.6</td>\n",
       "      <td>5</td>\n",
       "      <td>0</td>\n",
       "    </tr>\n",
       "    <tr>\n",
       "      <th>5317</th>\n",
       "      <td>5317</td>\n",
       "      <td>6.5</td>\n",
       "      <td>0.24</td>\n",
       "      <td>0.19</td>\n",
       "      <td>1.2</td>\n",
       "      <td>0.041</td>\n",
       "      <td>30.0</td>\n",
       "      <td>111.0</td>\n",
       "      <td>0.99254</td>\n",
       "      <td>2.99</td>\n",
       "      <td>0.46</td>\n",
       "      <td>9.4</td>\n",
       "      <td>6</td>\n",
       "      <td>0</td>\n",
       "    </tr>\n",
       "    <tr>\n",
       "      <th>5318</th>\n",
       "      <td>5318</td>\n",
       "      <td>5.5</td>\n",
       "      <td>0.29</td>\n",
       "      <td>0.30</td>\n",
       "      <td>1.1</td>\n",
       "      <td>0.022</td>\n",
       "      <td>20.0</td>\n",
       "      <td>110.0</td>\n",
       "      <td>0.98869</td>\n",
       "      <td>3.34</td>\n",
       "      <td>0.38</td>\n",
       "      <td>12.8</td>\n",
       "      <td>7</td>\n",
       "      <td>0</td>\n",
       "    </tr>\n",
       "    <tr>\n",
       "      <th>5319</th>\n",
       "      <td>5319</td>\n",
       "      <td>6.0</td>\n",
       "      <td>0.21</td>\n",
       "      <td>0.38</td>\n",
       "      <td>0.8</td>\n",
       "      <td>0.020</td>\n",
       "      <td>22.0</td>\n",
       "      <td>98.0</td>\n",
       "      <td>0.98941</td>\n",
       "      <td>3.26</td>\n",
       "      <td>0.32</td>\n",
       "      <td>11.8</td>\n",
       "      <td>6</td>\n",
       "      <td>0</td>\n",
       "    </tr>\n",
       "  </tbody>\n",
       "</table>\n",
       "<p>5320 rows × 14 columns</p>\n",
       "</div>"
      ],
      "text/plain": [
       "      Unnamed: 0  fixed_acidity  volatile_acidity  citric_acid  \\\n",
       "0              0            7.4              0.70         0.00   \n",
       "1              1            7.8              0.88         0.00   \n",
       "2              2            7.8              0.76         0.04   \n",
       "3              3           11.2              0.28         0.56   \n",
       "4              4            7.4              0.66         0.00   \n",
       "...          ...            ...               ...          ...   \n",
       "5315        5315            6.2              0.21         0.29   \n",
       "5316        5316            6.6              0.32         0.36   \n",
       "5317        5317            6.5              0.24         0.19   \n",
       "5318        5318            5.5              0.29         0.30   \n",
       "5319        5319            6.0              0.21         0.38   \n",
       "\n",
       "      residual_sugar  chlorides  free_sulfur_dioxide  total_sulfur_dioxide  \\\n",
       "0                1.9      0.076                 11.0                  34.0   \n",
       "1                2.6      0.098                 25.0                  67.0   \n",
       "2                2.3      0.092                 15.0                  54.0   \n",
       "3                1.9      0.075                 17.0                  60.0   \n",
       "4                1.8      0.075                 13.0                  40.0   \n",
       "...              ...        ...                  ...                   ...   \n",
       "5315             1.6      0.039                 24.0                  92.0   \n",
       "5316             8.0      0.047                 57.0                 168.0   \n",
       "5317             1.2      0.041                 30.0                 111.0   \n",
       "5318             1.1      0.022                 20.0                 110.0   \n",
       "5319             0.8      0.020                 22.0                  98.0   \n",
       "\n",
       "      density    pH  sulphates  alcohol  quality  is_red  \n",
       "0     0.99780  3.51       0.56      9.4        5       1  \n",
       "1     0.99680  3.20       0.68      9.8        5       1  \n",
       "2     0.99700  3.26       0.65      9.8        5       1  \n",
       "3     0.99800  3.16       0.58      9.8        6       1  \n",
       "4     0.99780  3.51       0.56      9.4        5       1  \n",
       "...       ...   ...        ...      ...      ...     ...  \n",
       "5315  0.99114  3.27       0.50     11.2        6       0  \n",
       "5316  0.99490  3.15       0.46      9.6        5       0  \n",
       "5317  0.99254  2.99       0.46      9.4        6       0  \n",
       "5318  0.98869  3.34       0.38     12.8        7       0  \n",
       "5319  0.98941  3.26       0.32     11.8        6       0  \n",
       "\n",
       "[5320 rows x 14 columns]"
      ]
     },
     "execution_count": 132,
     "metadata": {},
     "output_type": "execute_result"
    }
   ],
   "source": [
    "df = pd.read_csv('Wine_Quality_Dataset.csv')\n",
    "df"
   ]
  },
  {
   "cell_type": "markdown",
   "metadata": {},
   "source": [
    "## 1. Split dataset menjadi train dan test"
   ]
  },
  {
   "cell_type": "markdown",
   "metadata": {},
   "source": [
    "#### Import train_test_split dari Library Sklearn"
   ]
  },
  {
   "cell_type": "code",
   "execution_count": 133,
   "metadata": {},
   "outputs": [],
   "source": [
    "from sklearn.model_selection import train_test_split"
   ]
  },
  {
   "cell_type": "markdown",
   "metadata": {},
   "source": [
    "#### Deklarasi variable X dan variable y (Target)"
   ]
  },
  {
   "cell_type": "code",
   "execution_count": 134,
   "metadata": {},
   "outputs": [
    {
     "data": {
      "text/plain": [
       "(      fixed_acidity  volatile_acidity  citric_acid  residual_sugar  chlorides  \\\n",
       " 0               7.4              0.70         0.00             1.9      0.076   \n",
       " 1               7.8              0.88         0.00             2.6      0.098   \n",
       " 2               7.8              0.76         0.04             2.3      0.092   \n",
       " 3              11.2              0.28         0.56             1.9      0.075   \n",
       " 4               7.4              0.66         0.00             1.8      0.075   \n",
       " ...             ...               ...          ...             ...        ...   \n",
       " 5315            6.2              0.21         0.29             1.6      0.039   \n",
       " 5316            6.6              0.32         0.36             8.0      0.047   \n",
       " 5317            6.5              0.24         0.19             1.2      0.041   \n",
       " 5318            5.5              0.29         0.30             1.1      0.022   \n",
       " 5319            6.0              0.21         0.38             0.8      0.020   \n",
       " \n",
       "       free_sulfur_dioxide  total_sulfur_dioxide  density    pH  sulphates  \\\n",
       " 0                    11.0                  34.0  0.99780  3.51       0.56   \n",
       " 1                    25.0                  67.0  0.99680  3.20       0.68   \n",
       " 2                    15.0                  54.0  0.99700  3.26       0.65   \n",
       " 3                    17.0                  60.0  0.99800  3.16       0.58   \n",
       " 4                    13.0                  40.0  0.99780  3.51       0.56   \n",
       " ...                   ...                   ...      ...   ...        ...   \n",
       " 5315                 24.0                  92.0  0.99114  3.27       0.50   \n",
       " 5316                 57.0                 168.0  0.99490  3.15       0.46   \n",
       " 5317                 30.0                 111.0  0.99254  2.99       0.46   \n",
       " 5318                 20.0                 110.0  0.98869  3.34       0.38   \n",
       " 5319                 22.0                  98.0  0.98941  3.26       0.32   \n",
       " \n",
       "       alcohol  \n",
       " 0         9.4  \n",
       " 1         9.8  \n",
       " 2         9.8  \n",
       " 3         9.8  \n",
       " 4         9.4  \n",
       " ...       ...  \n",
       " 5315     11.2  \n",
       " 5316      9.6  \n",
       " 5317      9.4  \n",
       " 5318     12.8  \n",
       " 5319     11.8  \n",
       " \n",
       " [5320 rows x 11 columns],\n",
       " 0       1\n",
       " 1       1\n",
       " 2       1\n",
       " 3       1\n",
       " 4       1\n",
       "        ..\n",
       " 5315    0\n",
       " 5316    0\n",
       " 5317    0\n",
       " 5318    0\n",
       " 5319    0\n",
       " Name: is_red, Length: 5320, dtype: int64)"
      ]
     },
     "execution_count": 134,
     "metadata": {},
     "output_type": "execute_result"
    }
   ],
   "source": [
    "X = df[['fixed_acidity', 'volatile_acidity', 'citric_acid', 'residual_sugar', 'chlorides', 'free_sulfur_dioxide','total_sulfur_dioxide','density','pH','sulphates','alcohol']]\n",
    "y = df['is_red']\n",
    "X,y"
   ]
  },
  {
   "cell_type": "markdown",
   "metadata": {},
   "source": [
    "#### Buat kelas train_test_split. Nilai test_size kita kasih 0.3 saja agar 30% dari data akan menjadi testing set dan 70% dari data akan menjadi training set"
   ]
  },
  {
   "cell_type": "code",
   "execution_count": 135,
   "metadata": {},
   "outputs": [],
   "source": [
    "X_train, X_test, y_train, y_test = train_test_split(X, y, test_size=0.3, random_state=42)"
   ]
  },
  {
   "cell_type": "markdown",
   "metadata": {},
   "source": [
    "## 2. Lakukan preprocessing (seperti cleaning, encoding, dll.) pada dataset"
   ]
  },
  {
   "cell_type": "markdown",
   "metadata": {},
   "source": [
    "#### Memeriksa jumlah nilai null pada dataset"
   ]
  },
  {
   "cell_type": "code",
   "execution_count": 136,
   "metadata": {},
   "outputs": [
    {
     "data": {
      "text/plain": [
       "Unnamed: 0              0\n",
       "fixed_acidity           0\n",
       "volatile_acidity        0\n",
       "citric_acid             0\n",
       "residual_sugar          0\n",
       "chlorides               0\n",
       "free_sulfur_dioxide     0\n",
       "total_sulfur_dioxide    0\n",
       "density                 0\n",
       "pH                      0\n",
       "sulphates               0\n",
       "alcohol                 0\n",
       "quality                 0\n",
       "is_red                  0\n",
       "dtype: int64"
      ]
     },
     "execution_count": 136,
     "metadata": {},
     "output_type": "execute_result"
    }
   ],
   "source": [
    "df.isna().sum()"
   ]
  },
  {
   "cell_type": "markdown",
   "metadata": {},
   "source": [
    "#### Dikarenakan tidak terdapat nilai NULL, maka tidak perlu dilakukan data cleaning"
   ]
  },
  {
   "cell_type": "markdown",
   "metadata": {},
   "source": [
    "## 3. Gunakan sequential model"
   ]
  },
  {
   "cell_type": "markdown",
   "metadata": {},
   "source": [
    "#### Import Library"
   ]
  },
  {
   "cell_type": "code",
   "execution_count": 137,
   "metadata": {},
   "outputs": [],
   "source": [
    "import tensorflow as tf\n",
    "from tensorflow.keras import Sequential, layers, callbacks\n",
    "from matplotlib import pyplot as plt"
   ]
  },
  {
   "cell_type": "markdown",
   "metadata": {},
   "source": [
    "#### Jalankan kodingan dibawah ini untuk membuat sequential model"
   ]
  },
  {
   "cell_type": "code",
   "execution_count": 138,
   "metadata": {},
   "outputs": [],
   "source": [
    "model = Sequential([\n",
    "    layers.Dense(16, activation='relu', input_shape=[11]),\n",
    "    layers.Dense(32, activation='relu'),\n",
    "    layers.Dense(32, activation='relu'),\n",
    "    layers.Dense(1, activation='sigmoid')\n",
    "])\n",
    "\n",
    "model.compile(\n",
    "    optimizer='adam', \n",
    "    loss='binary_crossentropy',\n",
    "    metrics=['accuracy']\n",
    ")"
   ]
  },
  {
   "cell_type": "markdown",
   "metadata": {},
   "source": [
    "#### Variabel \"es\" digunakan sebagai callback selama pelatihan model untuk menghentikan pelatihan jika metrik \"val_accuracy\" pada data validasi tidak membaik setelah 5 iterasi berturut-turut dan opsi \"restore_best_weights\" digunakan untuk mengembalikan bobot model ke iterasi dengan performa terbaik."
   ]
  },
  {
   "cell_type": "code",
   "execution_count": 139,
   "metadata": {},
   "outputs": [],
   "source": [
    "es = callbacks.EarlyStopping(\n",
    "    monitor='val_accuracy',\n",
    "    patience=5,\n",
    "    verbose=1,\n",
    "    restore_best_weights=True\n",
    ")"
   ]
  },
  {
   "cell_type": "markdown",
   "metadata": {},
   "source": [
    "#### Jalankan kodingan dibawah ini untuk melatih model DNN"
   ]
  },
  {
   "cell_type": "code",
   "execution_count": 140,
   "metadata": {},
   "outputs": [
    {
     "name": "stdout",
     "output_type": "stream",
     "text": [
      "Epoch 1/1000\n"
     ]
    },
    {
     "name": "stdout",
     "output_type": "stream",
     "text": [
      "82/82 [==============================] - 1s 3ms/step - loss: 1.0546 - accuracy: 0.8078 - val_loss: 0.2507 - val_accuracy: 0.9052\n",
      "Epoch 2/1000\n",
      "82/82 [==============================] - 0s 2ms/step - loss: 0.2184 - accuracy: 0.9248 - val_loss: 0.2254 - val_accuracy: 0.9141\n",
      "Epoch 3/1000\n",
      "82/82 [==============================] - 0s 1ms/step - loss: 0.2001 - accuracy: 0.9309 - val_loss: 0.2031 - val_accuracy: 0.9249\n",
      "Epoch 4/1000\n",
      "82/82 [==============================] - 0s 2ms/step - loss: 0.1891 - accuracy: 0.9367 - val_loss: 0.2121 - val_accuracy: 0.9302\n",
      "Epoch 5/1000\n",
      "82/82 [==============================] - 0s 2ms/step - loss: 0.1824 - accuracy: 0.9348 - val_loss: 0.1899 - val_accuracy: 0.9302\n",
      "Epoch 6/1000\n",
      "82/82 [==============================] - 0s 2ms/step - loss: 0.1753 - accuracy: 0.9359 - val_loss: 0.1976 - val_accuracy: 0.9374\n",
      "Epoch 7/1000\n",
      "82/82 [==============================] - 0s 2ms/step - loss: 0.1691 - accuracy: 0.9405 - val_loss: 0.1848 - val_accuracy: 0.9347\n",
      "Epoch 8/1000\n",
      "82/82 [==============================] - 0s 2ms/step - loss: 0.1607 - accuracy: 0.9432 - val_loss: 0.1676 - val_accuracy: 0.9419\n",
      "Epoch 9/1000\n",
      "82/82 [==============================] - 0s 2ms/step - loss: 0.1572 - accuracy: 0.9474 - val_loss: 0.1673 - val_accuracy: 0.9436\n",
      "Epoch 10/1000\n",
      "82/82 [==============================] - 0s 2ms/step - loss: 0.1472 - accuracy: 0.9459 - val_loss: 0.1662 - val_accuracy: 0.9490\n",
      "Epoch 11/1000\n",
      "82/82 [==============================] - 0s 2ms/step - loss: 0.1445 - accuracy: 0.9509 - val_loss: 0.1681 - val_accuracy: 0.9553\n",
      "Epoch 12/1000\n",
      "82/82 [==============================] - 0s 2ms/step - loss: 0.1427 - accuracy: 0.9517 - val_loss: 0.1489 - val_accuracy: 0.9535\n",
      "Epoch 13/1000\n",
      "82/82 [==============================] - 0s 2ms/step - loss: 0.1354 - accuracy: 0.9528 - val_loss: 0.1509 - val_accuracy: 0.9553\n",
      "Epoch 14/1000\n",
      "82/82 [==============================] - 0s 2ms/step - loss: 0.1298 - accuracy: 0.9532 - val_loss: 0.1498 - val_accuracy: 0.9472\n",
      "Epoch 15/1000\n",
      "82/82 [==============================] - 0s 2ms/step - loss: 0.1239 - accuracy: 0.9547 - val_loss: 0.1418 - val_accuracy: 0.9606\n",
      "Epoch 16/1000\n",
      "82/82 [==============================] - 0s 2ms/step - loss: 0.1230 - accuracy: 0.9582 - val_loss: 0.1342 - val_accuracy: 0.9606\n",
      "Epoch 17/1000\n",
      "82/82 [==============================] - 0s 2ms/step - loss: 0.1196 - accuracy: 0.9589 - val_loss: 0.1376 - val_accuracy: 0.9499\n",
      "Epoch 18/1000\n",
      "82/82 [==============================] - 0s 2ms/step - loss: 0.1148 - accuracy: 0.9605 - val_loss: 0.1351 - val_accuracy: 0.9606\n",
      "Epoch 19/1000\n",
      "82/82 [==============================] - 0s 2ms/step - loss: 0.1121 - accuracy: 0.9624 - val_loss: 0.1334 - val_accuracy: 0.9544\n",
      "Epoch 20/1000\n",
      "47/82 [================>.............] - ETA: 0s - loss: 0.1062 - accuracy: 0.9628Restoring model weights from the end of the best epoch: 15.\n",
      "82/82 [==============================] - 0s 2ms/step - loss: 0.1078 - accuracy: 0.9666 - val_loss: 0.1311 - val_accuracy: 0.9606\n",
      "Epoch 20: early stopping\n"
     ]
    }
   ],
   "source": [
    "history = model.fit(X_train, y_train, epochs=1000, validation_split=0.3, verbose=1, callbacks=[es])"
   ]
  },
  {
   "cell_type": "code",
   "execution_count": 141,
   "metadata": {},
   "outputs": [
    {
     "name": "stdout",
     "output_type": "stream",
     "text": [
      "Model: \"sequential_9\"\n",
      "_________________________________________________________________\n",
      " Layer (type)                Output Shape              Param #   \n",
      "=================================================================\n",
      " dense_36 (Dense)            (None, 16)                192       \n",
      "                                                                 \n",
      " dense_37 (Dense)            (None, 32)                544       \n",
      "                                                                 \n",
      " dense_38 (Dense)            (None, 32)                1056      \n",
      "                                                                 \n",
      " dense_39 (Dense)            (None, 1)                 33        \n",
      "                                                                 \n",
      "=================================================================\n",
      "Total params: 1825 (7.13 KB)\n",
      "Trainable params: 1825 (7.13 KB)\n",
      "Non-trainable params: 0 (0.00 Byte)\n",
      "_________________________________________________________________\n"
     ]
    }
   ],
   "source": [
    "model.summary()"
   ]
  },
  {
   "cell_type": "markdown",
   "metadata": {},
   "source": [
    "## 4. Lakukan evaluasi model terhadap data test"
   ]
  },
  {
   "cell_type": "code",
   "execution_count": 142,
   "metadata": {},
   "outputs": [
    {
     "name": "stdout",
     "output_type": "stream",
     "text": [
      "50/50 [==============================] - 0s 931us/step - loss: 0.1262 - accuracy: 0.9618\n"
     ]
    },
    {
     "data": {
      "text/plain": [
       "[0.12623244524002075, 0.9617794752120972]"
      ]
     },
     "execution_count": 142,
     "metadata": {},
     "output_type": "execute_result"
    }
   ],
   "source": [
    "model.evaluate(X_test, y_test)"
   ]
  },
  {
   "cell_type": "markdown",
   "metadata": {},
   "source": [
    "## 5. Buat grafik yang menampilkan pergerakan metrik (akurasi/error) dan loss terhadap epoch baik pada training maupun validation"
   ]
  },
  {
   "cell_type": "markdown",
   "metadata": {},
   "source": [
    "#### Mengambil metrik akurasi (accuracy) dari setiap epoch"
   ]
  },
  {
   "cell_type": "code",
   "execution_count": 143,
   "metadata": {},
   "outputs": [],
   "source": [
    "training_accuracy = history.history['accuracy']\n",
    "validation_accuracy = history.history['val_accuracy']"
   ]
  },
  {
   "cell_type": "markdown",
   "metadata": {},
   "source": [
    "#### Membuat grafik akurasi"
   ]
  },
  {
   "cell_type": "code",
   "execution_count": 144,
   "metadata": {},
   "outputs": [
    {
     "data": {
      "image/png": "[encoded data removed]",
      "text/plain": [
       "<Figure size 1200x500 with 1 Axes>"
      ]
     },
     "metadata": {},
     "output_type": "display_data"
    }
   ],
   "source": [
    "plt.figure(figsize=(12, 5))\n",
    "plt.plot(range(1, len(training_accuracy) + 1), training_accuracy, label='Training Accuracy', color='blue')\n",
    "plt.plot(range(1, len(validation_accuracy) + 1), validation_accuracy, label='Validation Accuracy',  color='orange')\n",
    "plt.title('Training and Validation Accuracy')\n",
    "plt.xlabel('Epochs')\n",
    "plt.ylabel('Accuracy')\n",
    "plt.legend()\n",
    "plt.show()"
   ]
  },
  {
   "cell_type": "markdown",
   "metadata": {},
   "source": [
    "#### Mengambil loss dari setiap epoch"
   ]
  },
  {
   "cell_type": "code",
   "execution_count": 145,
   "metadata": {},
   "outputs": [],
   "source": [
    "training_loss = history.history['loss']\n",
    "validation_loss = history.history['val_loss']"
   ]
  },
  {
   "cell_type": "markdown",
   "metadata": {},
   "source": [
    "#### Membuat grafik loss"
   ]
  },
  {
   "cell_type": "code",
   "execution_count": 146,
   "metadata": {},
   "outputs": [
    {
     "data": {
      "image/png": "[encoded data removed]",
      "text/plain": [
       "<Figure size 1200x500 with 1 Axes>"
      ]
     },
     "metadata": {},
     "output_type": "display_data"
    }
   ],
   "source": [
    "plt.figure(figsize=(12, 5))\n",
    "plt.plot(range(1, len(training_loss) + 1), training_loss, label='Training Loss', color='blue')\n",
    "plt.plot(range(1, len(validation_loss) + 1), validation_loss, label='Validation Loss', color='orange')\n",
    "plt.title('Training and Validation Loss')\n",
    "plt.xlabel('Epochs')\n",
    "plt.ylabel('Loss')\n",
    "plt.legend()\n",
    "plt.show()"
   ]
  },
  {
   "cell_type": "markdown",
   "metadata": {},
   "source": [
    "#### Menyimpan model yang telah dilatih"
   ]
  },
  {
   "cell_type": "code",
   "execution_count": 147,
   "metadata": {},
   "outputs": [
    {
     "name": "stderr",
     "output_type": "stream",
     "text": [
      "c:\\Users\\Acer\\AppData\\Local\\Programs\\Python\\Python310\\lib\\site-packages\\keras\\src\\engine\\training.py:3079: UserWarning: You are saving your model as an HDF5 file via `model.save()`. This file format is considered legacy. We recommend using instead the native Keras format, e.g. `model.save('my_model.keras')`.\n",
      "  saving_api.save_model(\n"
     ]
    }
   ],
   "source": [
    "model.save('model_posttest_6.h5')"
   ]
  }
 ],
 "metadata": {
  "kernelspec": {
   "display_name": "Python 3",
   "language": "python",
   "name": "python3"
  },
  "language_info": {
   "codemirror_mode": {
    "name": "ipython",
    "version": 3
   },
   "file_extension": ".py",
   "mimetype": "text/x-python",
   "name": "python",
   "nbconvert_exporter": "python",
   "pygments_lexer": "ipython3",
   "version": "3.10.7"
  }
 },
 "nbformat": 4,
 "nbformat_minor": 2
}
